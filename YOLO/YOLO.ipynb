{
  "nbformat": 4,
  "nbformat_minor": 0,
  "metadata": {
    "colab": {
      "provenance": []
    },
    "kernelspec": {
      "name": "python3",
      "display_name": "Python 3"
    },
    "language_info": {
      "name": "python"
    },
    "accelerator": "GPU"
  },
  "cells": [
    {
      "cell_type": "markdown",
      "source": [
        "**Build the Dataset**"
      ],
      "metadata": {
        "id": "LbLSP2PKF1Mi"
      }
    },
    {
      "cell_type": "code",
      "metadata": {
        "id": "qoy_rgWmIQwv"
      },
      "source": [
        "# imports\n",
        "from pathlib import Path\n",
        "from tqdm import tqdm\n",
        "import numpy as np\n",
        "import json\n",
        "import urllib\n",
        "import PIL.Image as Image\n",
        "import cv2\n",
        "import torch\n",
        "import torchvision\n",
        "from IPython.display import display\n",
        "from sklearn.model_selection import train_test_split\n",
        "import os\n",
        "import PIL\n",
        "\n",
        "import seaborn as sns\n",
        "from pylab import rcParams\n",
        "import matplotlib.pyplot as plt\n",
        "from matplotlib import rc\n",
        "\n",
        "%matplotlib inline\n",
        "%config InlineBackend.figure_format='retina'\n",
        "sns.set(style='whitegrid', palette='muted', font_scale=1.2)\n",
        "rcParams['figure.figsize'] = 16, 10\n",
        "\n",
        "np.random.seed(42)"
      ],
      "execution_count": null,
      "outputs": []
    },
    {
      "cell_type": "code",
      "source": [
        "!pip install roboflow\n",
        "\n",
        "from roboflow import Roboflow\n",
        "rf = Roboflow(api_key=\"HAAZzUmIip5OvdPutJ9O\")\n",
        "project = rf.workspace(\"alon-barak\").project(\"weapon-detection-dp9bo\")\n",
        "dataset = project.version(1).download(\"yolov5\")\n"
      ],
      "metadata": {
        "id": "ChSqB7yRK92O"
      },
      "execution_count": null,
      "outputs": []
    },
    {
      "cell_type": "code",
      "source": [
        "# cloning the git repo\n",
        "!git clone https://github.com/ultralytics/yolov5\n",
        "%cd yolov5\n",
        "!git checkout 741fac815e366d74eed020efb8c68a23828ee3e9"
      ],
      "metadata": {
        "id": "prxg5cHUvMbM"
      },
      "execution_count": null,
      "outputs": []
    },
    {
      "cell_type": "code",
      "source": [
        "from google.colab import drive\n",
        "drive.mount('/content/drive')"
      ],
      "metadata": {
        "colab": {
          "base_uri": "https://localhost:8080/"
        },
        "id": "a-WQJRVUctG2",
        "outputId": "d8e8c933-08b9-4e40-eaa8-bd6b6bb0c497"
      },
      "execution_count": null,
      "outputs": [
        {
          "output_type": "stream",
          "name": "stdout",
          "text": [
            "Drive already mounted at /content/drive; to attempt to forcibly remount, call drive.mount(\"/content/drive\", force_remount=True).\n"
          ]
        }
      ]
    },
    {
      "cell_type": "code",
      "source": [
        "!python train.py --img 480 --batch 4 --epochs 30 --data ./data/data.yaml --cfg ./models/yolov5x.yaml --weights yolov5x.pt --name yolov5x_weapon"
      ],
      "metadata": {
        "id": "maYEV-I8wwTE"
      },
      "execution_count": null,
      "outputs": []
    },
    {
      "cell_type": "code",
      "source": [
        "!python detect.py --weights ./runs/train/yolov5x_weapon2/weights/best.pt --source ../Weapon-detection-1/test/images/33_jpeg.rf.9ff4cca04f3a1c2ca32fdc53f26c341d.jpg"
      ],
      "metadata": {
        "id": "mFNV4JWsd2h9"
      },
      "execution_count": null,
      "outputs": []
    }
  ]
}